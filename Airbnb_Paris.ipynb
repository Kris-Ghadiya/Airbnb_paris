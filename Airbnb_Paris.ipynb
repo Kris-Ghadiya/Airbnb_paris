{
  "nbformat": 4,
  "nbformat_minor": 0,
  "metadata": {
    "colab": {
      "provenance": []
    },
    "kernelspec": {
      "name": "python3",
      "display_name": "Python 3"
    },
    "language_info": {
      "name": "python"
    }
  },
  "cells": [
    {
      "cell_type": "code",
      "execution_count": 1,
      "metadata": {
        "id": "tSc60A_XBpIJ"
      },
      "outputs": [],
      "source": [
        "import pandas as pd\n",
        "import numpy as np\n",
        "import matplotlib.pyplot as plt\n",
        "import seaborn as sns\n",
        "from sklearn.model_selection import train_test_split\n",
        "from sklearn.preprocessing import StandardScaler, OneHotEncoder\n",
        "from sklearn.linear_model import LinearRegression\n",
        "from sklearn.ensemble import RandomForestRegressor\n",
        "from xgboost import XGBRegressor\n",
        "from sklearn.metrics import mean_absolute_error, mean_squared_error\n",
        "from sklearn.compose import ColumnTransformer\n",
        "from sklearn.pipeline import Pipeline"
      ]
    },
    {
      "cell_type": "code",
      "source": [
        "data = pd.read_csv('/content/listings.csv')"
      ],
      "metadata": {
        "id": "Jfkg9QWdB3ep"
      },
      "execution_count": 12,
      "outputs": []
    },
    {
      "cell_type": "code",
      "source": [
        "print(data.info())\n",
        "print(data.isnull().sum())"
      ],
      "metadata": {
        "colab": {
          "base_uri": "https://localhost:8080/"
        },
        "id": "-i40bNg4Il2y",
        "outputId": "6ae62acf-b636-4d1e-9a6f-3817f0d83fa3"
      },
      "execution_count": 13,
      "outputs": [
        {
          "output_type": "stream",
          "name": "stdout",
          "text": [
            "<class 'pandas.core.frame.DataFrame'>\n",
            "RangeIndex: 91031 entries, 0 to 91030\n",
            "Data columns (total 75 columns):\n",
            " #   Column                                        Non-Null Count  Dtype  \n",
            "---  ------                                        --------------  -----  \n",
            " 0   id                                            91031 non-null  int64  \n",
            " 1   listing_url                                   91031 non-null  object \n",
            " 2   scrape_id                                     91031 non-null  int64  \n",
            " 3   last_scraped                                  91031 non-null  object \n",
            " 4   source                                        91031 non-null  object \n",
            " 5   name                                          91031 non-null  object \n",
            " 6   description                                   87540 non-null  object \n",
            " 7   neighborhood_overview                         45896 non-null  object \n",
            " 8   picture_url                                   91030 non-null  object \n",
            " 9   host_id                                       91031 non-null  int64  \n",
            " 10  host_url                                      91031 non-null  object \n",
            " 11  host_name                                     91022 non-null  object \n",
            " 12  host_since                                    91022 non-null  object \n",
            " 13  host_location                                 72768 non-null  object \n",
            " 14  host_about                                    39578 non-null  object \n",
            " 15  host_response_time                            52210 non-null  object \n",
            " 16  host_response_rate                            52210 non-null  object \n",
            " 17  host_acceptance_rate                          61093 non-null  object \n",
            " 18  host_is_superhost                             89080 non-null  object \n",
            " 19  host_thumbnail_url                            91022 non-null  object \n",
            " 20  host_picture_url                              91022 non-null  object \n",
            " 21  host_neighbourhood                            32169 non-null  object \n",
            " 22  host_listings_count                           91022 non-null  float64\n",
            " 23  host_total_listings_count                     91022 non-null  float64\n",
            " 24  host_verifications                            91022 non-null  object \n",
            " 25  host_has_profile_pic                          91022 non-null  object \n",
            " 26  host_identity_verified                        91022 non-null  object \n",
            " 27  neighbourhood                                 45896 non-null  object \n",
            " 28  neighbourhood_cleansed                        91031 non-null  object \n",
            " 29  neighbourhood_group_cleansed                  0 non-null      float64\n",
            " 30  latitude                                      91031 non-null  float64\n",
            " 31  longitude                                     91031 non-null  float64\n",
            " 32  property_type                                 91031 non-null  object \n",
            " 33  room_type                                     91031 non-null  object \n",
            " 34  accommodates                                  91031 non-null  int64  \n",
            " 35  bathrooms                                     60114 non-null  float64\n",
            " 36  bathrooms_text                                90945 non-null  object \n",
            " 37  bedrooms                                      83700 non-null  float64\n",
            " 38  beds                                          59944 non-null  float64\n",
            " 39  amenities                                     91031 non-null  object \n",
            " 40  price                                         60093 non-null  object \n",
            " 41  minimum_nights                                91031 non-null  int64  \n",
            " 42  maximum_nights                                91031 non-null  int64  \n",
            " 43  minimum_minimum_nights                        91031 non-null  int64  \n",
            " 44  maximum_minimum_nights                        91031 non-null  int64  \n",
            " 45  minimum_maximum_nights                        91031 non-null  int64  \n",
            " 46  maximum_maximum_nights                        91031 non-null  int64  \n",
            " 47  minimum_nights_avg_ntm                        91031 non-null  float64\n",
            " 48  maximum_nights_avg_ntm                        91031 non-null  float64\n",
            " 49  calendar_updated                              0 non-null      float64\n",
            " 50  has_availability                              86531 non-null  object \n",
            " 51  availability_30                               91031 non-null  int64  \n",
            " 52  availability_60                               91031 non-null  int64  \n",
            " 53  availability_90                               91031 non-null  int64  \n",
            " 54  availability_365                              91031 non-null  int64  \n",
            " 55  calendar_last_scraped                         91031 non-null  object \n",
            " 56  number_of_reviews                             91031 non-null  int64  \n",
            " 57  number_of_reviews_ltm                         91031 non-null  int64  \n",
            " 58  number_of_reviews_l30d                        91031 non-null  int64  \n",
            " 59  first_review                                  67176 non-null  object \n",
            " 60  last_review                                   67176 non-null  object \n",
            " 61  review_scores_rating                          67176 non-null  float64\n",
            " 62  review_scores_accuracy                        67164 non-null  float64\n",
            " 63  review_scores_cleanliness                     67167 non-null  float64\n",
            " 64  review_scores_checkin                         67157 non-null  float64\n",
            " 65  review_scores_communication                   67166 non-null  float64\n",
            " 66  review_scores_location                        67158 non-null  float64\n",
            " 67  review_scores_value                           67156 non-null  float64\n",
            " 68  license                                       72245 non-null  object \n",
            " 69  instant_bookable                              91031 non-null  object \n",
            " 70  calculated_host_listings_count                91031 non-null  int64  \n",
            " 71  calculated_host_listings_count_entire_homes   91031 non-null  int64  \n",
            " 72  calculated_host_listings_count_private_rooms  91031 non-null  int64  \n",
            " 73  calculated_host_listings_count_shared_rooms   91031 non-null  int64  \n",
            " 74  reviews_per_month                             67176 non-null  float64\n",
            "dtypes: float64(19), int64(21), object(35)\n",
            "memory usage: 52.1+ MB\n",
            "None\n",
            "id                                                  0\n",
            "listing_url                                         0\n",
            "scrape_id                                           0\n",
            "last_scraped                                        0\n",
            "source                                              0\n",
            "                                                ...  \n",
            "calculated_host_listings_count                      0\n",
            "calculated_host_listings_count_entire_homes         0\n",
            "calculated_host_listings_count_private_rooms        0\n",
            "calculated_host_listings_count_shared_rooms         0\n",
            "reviews_per_month                               23855\n",
            "Length: 75, dtype: int64\n"
          ]
        }
      ]
    },
    {
      "cell_type": "code",
      "source": [
        "selected_features = ['room_type', 'neighbourhood', 'latitude', 'longitude', 'accommodates', 'bathrooms', 'bedrooms', 'beds', 'price']\n",
        "df = data[selected_features].dropna()"
      ],
      "metadata": {
        "id": "qmOcPItdIoTG"
      },
      "execution_count": 14,
      "outputs": []
    },
    {
      "cell_type": "code",
      "source": [
        "df['price'] = df['price'].replace({'\\$': '', ',': ''}, regex=True).astype(float)"
      ],
      "metadata": {
        "id": "c3d8PslwIvYU"
      },
      "execution_count": 15,
      "outputs": []
    },
    {
      "cell_type": "code",
      "source": [
        "X = df.drop(columns=['price'])\n",
        "y = df['price']"
      ],
      "metadata": {
        "id": "WA72BH20IyK6"
      },
      "execution_count": 16,
      "outputs": []
    },
    {
      "cell_type": "code",
      "source": [
        "categorical_features = ['room_type', 'neighbourhood']\n",
        "numerical_features = ['latitude', 'longitude', 'accommodates', 'bathrooms', 'bedrooms', 'beds']"
      ],
      "metadata": {
        "id": "v63pn_dkI0bI"
      },
      "execution_count": 17,
      "outputs": []
    },
    {
      "cell_type": "code",
      "source": [
        "preprocessor = ColumnTransformer([\n",
        "    ('num', StandardScaler(), numerical_features),\n",
        "    ('cat', OneHotEncoder(handle_unknown='ignore'), categorical_features)\n",
        "])"
      ],
      "metadata": {
        "id": "CM32BEcvI2JS"
      },
      "execution_count": 18,
      "outputs": []
    },
    {
      "cell_type": "code",
      "source": [
        "models = {\n",
        "    'Linear Regression': Pipeline([\n",
        "        ('preprocessor', preprocessor),\n",
        "        ('regressor', LinearRegression())\n",
        "    ]),\n",
        "    'Random Forest': Pipeline([\n",
        "        ('preprocessor', preprocessor),\n",
        "        ('regressor', RandomForestRegressor(n_estimators=100, random_state=42))\n",
        "    ]),\n",
        "    'XGBoost': Pipeline([\n",
        "        ('preprocessor', preprocessor),\n",
        "        ('regressor', XGBRegressor(objective='reg:squarederror', n_estimators=100, random_state=42))\n",
        "    ])\n",
        "}"
      ],
      "metadata": {
        "id": "tB6JiDAFI7wC"
      },
      "execution_count": 19,
      "outputs": []
    },
    {
      "cell_type": "code",
      "source": [
        "X_train, X_test, y_train, y_test = train_test_split(X, y, test_size=0.2, random_state=42)"
      ],
      "metadata": {
        "id": "l0RR_PZHI-2u"
      },
      "execution_count": 20,
      "outputs": []
    },
    {
      "cell_type": "code",
      "source": [
        "for name, model in models.items():\n",
        "    print(f\"Training {name}...\")\n",
        "    model.fit(X_train, y_train)\n",
        "    y_pred = model.predict(X_test)\n",
        "    mae = mean_absolute_error(y_test, y_pred)\n",
        "    rmse = np.sqrt(mean_squared_error(y_test, y_pred))\n",
        "    print(f\"{name} - Mean Absolute Error: {mae}, Root Mean Squared Error: {rmse}\\n\")"
      ],
      "metadata": {
        "colab": {
          "base_uri": "https://localhost:8080/"
        },
        "id": "UJrL56z_JCPv",
        "outputId": "3bfa5ec9-4415-45b8-c97c-e40257f58294"
      },
      "execution_count": 21,
      "outputs": [
        {
          "output_type": "stream",
          "name": "stdout",
          "text": [
            "Training Linear Regression...\n",
            "Linear Regression - Mean Absolute Error: 163.91844549430508, Root Mean Squared Error: 762.9074311650442\n",
            "\n",
            "Training Random Forest...\n",
            "Random Forest - Mean Absolute Error: 173.99458422091638, Root Mean Squared Error: 770.1892395491051\n",
            "\n",
            "Training XGBoost...\n",
            "XGBoost - Mean Absolute Error: 175.25091732123397, Root Mean Squared Error: 767.2501463216105\n",
            "\n"
          ]
        }
      ]
    },
    {
      "cell_type": "code",
      "source": [
        "best_model = models['XGBoost']\n",
        "y_pred_best = best_model.predict(X_test)\n",
        "plt.figure(figsize=(8, 6))\n",
        "sns.scatterplot(x=y_test, y=y_pred_best, alpha=0.5)\n",
        "plt.xlabel('Actual Price')\n",
        "plt.ylabel('Predicted Price')\n",
        "plt.title('Actual vs Predicted Airbnb Prices (XGBoost)')\n",
        "plt.show()"
      ],
      "metadata": {
        "colab": {
          "base_uri": "https://localhost:8080/",
          "height": 564
        },
        "id": "mqrL1_CbJH39",
        "outputId": "07e032bb-771c-4428-e2ec-65edd783dadc"
      },
      "execution_count": 22,
      "outputs": [
        {
          "output_type": "display_data",
          "data": {
            "text/plain": [
              "<Figure size 800x600 with 1 Axes>"
            ],
            "image/png": "[encoded data removed]"
          },
          "metadata": {}
        }
      ]
    }
  ]
}